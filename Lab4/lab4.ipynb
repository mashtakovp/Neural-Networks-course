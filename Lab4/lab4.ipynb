{
 "cells": [
  {
   "cell_type": "markdown",
   "metadata": {},
   "source": [
    "# Лабораторная работа 4"
   ]
  },
  {
   "cell_type": "markdown",
   "metadata": {},
   "source": [
    "Tensorflow 2.x\n",
    "\n",
    "1) Подготовка данных\n",
    "\n",
    "2) Использование Keras Model API\n",
    "\n",
    "3) Использование Keras Sequential + Functional API"
   ]
  },
  {
   "cell_type": "markdown",
   "metadata": {},
   "source": [
    "https://www.tensorflow.org/tutorials"
   ]
  },
  {
   "cell_type": "markdown",
   "metadata": {},
   "source": [
    "Для выполнения лабораторной работы необходимо установить tensorflow версии 2.0 или выше .\n",
    "\n",
    "Рекомендуется использовать возможности Colab'а по обучению моделей на GPU.\n",
    "\n"
   ]
  },
  {
   "cell_type": "code",
   "execution_count": 1,
   "metadata": {},
   "outputs": [
    {
     "name": "stdout",
     "output_type": "stream",
     "text": [
      "WARNING:tensorflow:From D:\\Python\\Lib\\site-packages\\keras\\src\\losses.py:2976: The name tf.losses.sparse_softmax_cross_entropy is deprecated. Please use tf.compat.v1.losses.sparse_softmax_cross_entropy instead.\n",
      "\n"
     ]
    }
   ],
   "source": [
    "import os\n",
    "import tensorflow as tf\n",
    "import numpy as np\n",
    "import math\n",
    "import timeit\n",
    "import matplotlib.pyplot as plt\n",
    "\n",
    "%matplotlib inline"
   ]
  },
  {
   "cell_type": "markdown",
   "metadata": {},
   "source": [
    "# Подготовка данных\n",
    "Загрузите набор данных из предыдущей лабораторной работы. "
   ]
  },
  {
   "cell_type": "code",
   "execution_count": 2,
   "metadata": {},
   "outputs": [
    {
     "name": "stdout",
     "output_type": "stream",
     "text": [
      "Train data shape:  (49000, 32, 32, 3)\n",
      "Train labels shape:  (49000,) int32\n",
      "Validation data shape:  (1000, 32, 32, 3)\n",
      "Validation labels shape:  (1000,)\n",
      "Test data shape:  (10000, 32, 32, 3)\n",
      "Test labels shape:  (10000,)\n"
     ]
    }
   ],
   "source": [
    "def load_cifar10(num_training=49000, num_validation=1000, num_test=10000):\n",
    "    \"\"\"\n",
    "    Fetch the CIFAR-10 dataset from the web and perform preprocessing to prepare\n",
    "    it for the two-layer neural net classifier. These are the same steps as\n",
    "    we used for the SVM, but condensed to a single function.\n",
    "    \"\"\"\n",
    "    # Load the raw CIFAR-10 dataset and use appropriate data types and shapes\n",
    "    cifar10 = tf.keras.datasets.cifar10.load_data()\n",
    "    (X_train, y_train), (X_test, y_test) = cifar10\n",
    "    X_train = np.asarray(X_train, dtype=np.float32)\n",
    "    y_train = np.asarray(y_train, dtype=np.int32).flatten()\n",
    "    X_test = np.asarray(X_test, dtype=np.float32)\n",
    "    y_test = np.asarray(y_test, dtype=np.int32).flatten()\n",
    "\n",
    "    # Subsample the data\n",
    "    mask = range(num_training, num_training + num_validation)\n",
    "    X_val = X_train[mask]\n",
    "    y_val = y_train[mask]\n",
    "    mask = range(num_training)\n",
    "    X_train = X_train[mask]\n",
    "    y_train = y_train[mask]\n",
    "    mask = range(num_test)\n",
    "    X_test = X_test[mask]\n",
    "    y_test = y_test[mask]\n",
    "\n",
    "    # Normalize the data: subtract the mean pixel and divide by std\n",
    "    mean_pixel = X_train.mean(axis=(0, 1, 2), keepdims=True)\n",
    "    std_pixel = X_train.std(axis=(0, 1, 2), keepdims=True)\n",
    "    X_train = (X_train - mean_pixel) / std_pixel\n",
    "    X_val = (X_val - mean_pixel) / std_pixel\n",
    "    X_test = (X_test - mean_pixel) / std_pixel\n",
    "\n",
    "    return X_train, y_train, X_val, y_val, X_test, y_test\n",
    "\n",
    "# If there are errors with SSL downloading involving self-signed certificates,\n",
    "# it may be that your Python version was recently installed on the current machine.\n",
    "# See: https://github.com/tensorflow/tensorflow/issues/10779\n",
    "# To fix, run the command: /Applications/Python\\ 3.7/Install\\ Certificates.command\n",
    "#   ...replacing paths as necessary.\n",
    "\n",
    "# Invoke the above function to get our data.\n",
    "NHW = (0, 1, 2)\n",
    "X_train, y_train, X_val, y_val, X_test, y_test = load_cifar10()\n",
    "print('Train data shape: ', X_train.shape)\n",
    "print('Train labels shape: ', y_train.shape, y_train.dtype)\n",
    "print('Validation data shape: ', X_val.shape)\n",
    "print('Validation labels shape: ', y_val.shape)\n",
    "print('Test data shape: ', X_test.shape)\n",
    "print('Test labels shape: ', y_test.shape)\n",
    "\n",
    "device = '/gpu:0'"
   ]
  },
  {
   "cell_type": "code",
   "execution_count": 3,
   "metadata": {},
   "outputs": [],
   "source": [
    "class Dataset(object):\n",
    "    def __init__(self, X, y, batch_size, shuffle=False):\n",
    "        \"\"\"\n",
    "        Construct a Dataset object to iterate over data X and labels y\n",
    "        \n",
    "        Inputs:\n",
    "        - X: Numpy array of data, of any shape\n",
    "        - y: Numpy array of labels, of any shape but with y.shape[0] == X.shape[0]\n",
    "        - batch_size: Integer giving number of elements per minibatch\n",
    "        - shuffle: (optional) Boolean, whether to shuffle the data on each epoch\n",
    "        \"\"\"\n",
    "        assert X.shape[0] == y.shape[0], 'Got different numbers of data and labels'\n",
    "        self.X, self.y = X, y\n",
    "        self.batch_size, self.shuffle = batch_size, shuffle\n",
    "\n",
    "    def __iter__(self):\n",
    "        N, B = self.X.shape[0], self.batch_size\n",
    "        idxs = np.arange(N)\n",
    "        if self.shuffle:\n",
    "            np.random.shuffle(idxs)\n",
    "        return iter((self.X[i:i+B], self.y[i:i+B]) for i in range(0, N, B))\n",
    "\n",
    "\n",
    "train_dset = Dataset(X_train, y_train, batch_size=64, shuffle=True)\n",
    "val_dset = Dataset(X_val, y_val, batch_size=64, shuffle=False)\n",
    "test_dset = Dataset(X_test, y_test, batch_size=64)"
   ]
  },
  {
   "cell_type": "code",
   "execution_count": 5,
   "metadata": {},
   "outputs": [
    {
     "name": "stdout",
     "output_type": "stream",
     "text": [
      "0 (64, 32, 32, 3) (64,)\n",
      "1 (64, 32, 32, 3) (64,)\n",
      "2 (64, 32, 32, 3) (64,)\n",
      "3 (64, 32, 32, 3) (64,)\n",
      "4 (64, 32, 32, 3) (64,)\n",
      "5 (64, 32, 32, 3) (64,)\n",
      "6 (64, 32, 32, 3) (64,)\n"
     ]
    }
   ],
   "source": [
    "# We can iterate through a dataset like this:\n",
    "for t, (x, y) in enumerate(train_dset):\n",
    "    print(t, x.shape, y.shape)\n",
    "    if t > 5: break"
   ]
  },
  {
   "cell_type": "markdown",
   "metadata": {},
   "source": []
  },
  {
   "cell_type": "markdown",
   "metadata": {},
   "source": [
    "\n"
   ]
  },
  {
   "cell_type": "markdown",
   "metadata": {},
   "source": [
    "#  Keras Model Subclassing API"
   ]
  },
  {
   "cell_type": "markdown",
   "metadata": {},
   "source": [
    "\n",
    "Для реализации собственной модели с помощью Keras Model Subclassing API необходимо выполнить следующие шаги:\n",
    "\n",
    "1) Определить новый класс, который является наследником tf.keras.Model.\n",
    "\n",
    "2) В методе __init__() определить все необходимые слои из модуля tf.keras.layer\n",
    "\n",
    "3) Реализовать прямой проход в методе call() на основе слоев, объявленных в __init__()\n",
    "\n",
    "Ниже приведен пример использования keras API для определения двухслойной полносвязной сети. \n",
    "\n",
    "https://www.tensorflow.org/versions/r2.0/api_docs/python/tf/keras"
   ]
  },
  {
   "cell_type": "code",
   "execution_count": 6,
   "metadata": {},
   "outputs": [
    {
     "name": "stdout",
     "output_type": "stream",
     "text": [
      "WARNING:tensorflow:From D:\\Python\\Lib\\site-packages\\keras\\src\\backend.py:873: The name tf.get_default_graph is deprecated. Please use tf.compat.v1.get_default_graph instead.\n",
      "\n",
      "(64, 10)\n"
     ]
    },
    {
     "name": "stderr",
     "output_type": "stream",
     "text": [
      "D:\\Python\\Lib\\site-packages\\keras\\src\\initializers\\initializers.py:120: UserWarning: The initializer VarianceScaling is unseeded and being called multiple times, which will return identical values each time (even if the initializer is unseeded). Please update your code to provide a seed to the initializer, or avoid using the same initializer instance more than once.\n",
      "  warnings.warn(\n"
     ]
    }
   ],
   "source": [
    "class TwoLayerFC(tf.keras.Model):\n",
    "    def __init__(self, hidden_size, num_classes):\n",
    "        super(TwoLayerFC, self).__init__()        \n",
    "        initializer = tf.initializers.VarianceScaling(scale=2.0)\n",
    "        self.fc1 = tf.keras.layers.Dense(hidden_size, activation='relu',\n",
    "                                   kernel_initializer=initializer)\n",
    "        self.fc2 = tf.keras.layers.Dense(num_classes, activation='softmax',\n",
    "                                   kernel_initializer=initializer)\n",
    "        self.flatten = tf.keras.layers.Flatten()\n",
    "    \n",
    "    def call(self, x, training=False):\n",
    "        x = self.flatten(x)\n",
    "        x = self.fc1(x)\n",
    "        x = self.fc2(x)\n",
    "        return x\n",
    "\n",
    "\n",
    "def test_TwoLayerFC():\n",
    "    \"\"\" A small unit test to exercise the TwoLayerFC model above. \"\"\"\n",
    "    input_size, hidden_size, num_classes = 50, 42, 10\n",
    "    x = tf.zeros((64, input_size))\n",
    "    model = TwoLayerFC(hidden_size, num_classes)\n",
    "    with tf.device(device):\n",
    "        scores = model(x)\n",
    "        print(scores.shape)\n",
    "        \n",
    "test_TwoLayerFC()"
   ]
  },
  {
   "cell_type": "markdown",
   "metadata": {},
   "source": [
    "Реализуйте трехслойную CNN для вашей задачи классификации. \n",
    "\n",
    "Архитектура сети:\n",
    "    \n",
    "1. Сверточный слой (5 x 5 kernels, zero-padding = 'same')\n",
    "2. Функция активации ReLU \n",
    "3. Сверточный слой (3 x 3 kernels, zero-padding = 'same')\n",
    "4. Функция активации ReLU \n",
    "5. Полносвязный слой \n",
    "6. Функция активации Softmax \n",
    "\n",
    "https://www.tensorflow.org/versions/r2.0/api_docs/python/tf/keras/layers/Conv2D\n",
    "\n",
    "https://www.tensorflow.org/versions/r2.0/api_docs/python/tf/keras/layers/Dense"
   ]
  },
  {
   "cell_type": "code",
   "execution_count": 14,
   "metadata": {},
   "outputs": [],
   "source": [
    "class ThreeLayerConvNet(tf.keras.Model):\n",
    "    def __init__(self, channel_1, channel_2, num_classes):\n",
    "        super(ThreeLayerConvNet, self).__init__()\n",
    "        ########################################################################\n",
    "        # TODO: Implement the __init__ method for a three-layer ConvNet. You   #\n",
    "        # should instantiate layer objects to be used in the forward pass.     #\n",
    "        ########################################################################\n",
    "        # *****START OF YOUR CODE (DO NOT DELETE/MODIFY THIS LINE)*****\n",
    "\n",
    "        init = tf.keras.initializers.VarianceScaling(scale=2.0) # Инициализатор для ядер сверточных слоев и полносвязного слоя\n",
    "        self.conv1 = tf.keras.layers.Conv2D(channel_1, kernel_size=(5, 5), padding='same', activation='relu', \n",
    "                                            kernel_initializer=init) # Первый сверточный слой  5 x 5 kernels, zero-padding = 'same', relu\n",
    "        self.conv2 = tf.keras.layers.Conv2D(channel_2, kernel_size=(3, 3), padding='same', activation='relu',\n",
    "                                            kernel_initializer=init) # Второй сверточный слой 3 x 3 kernels, zero-padding = 'same', relu\n",
    "        self.flatten = tf.keras.layers.Flatten() # Слой, разворачивающий выходные данные сверточных слоев в один вектор\n",
    "        self.fc = tf.keras.layers.Dense(num_classes, activation='softmax', kernel_initializer=init) # Полносвязный слой с функцией активации softmax\n",
    "\n",
    "        # *****END OF YOUR CODE (DO NOT DELETE/MODIFY THIS LINE)*****\n",
    "        ########################################################################\n",
    "        #                           END OF YOUR CODE                           #\n",
    "        ########################################################################\n",
    "        \n",
    "    def call(self, x, training=False):\n",
    "        scores = None\n",
    "        ########################################################################\n",
    "        # TODO: Implement the forward pass for a three-layer ConvNet. You      #\n",
    "        # should use the layer objects defined in the __init__ method.         #\n",
    "        ########################################################################\n",
    "        # *****START OF YOUR CODE (DO NOT DELETE/MODIFY THIS LINE)*****\n",
    "\n",
    "        x = self.conv1(x) # Пропускаем входные данные x через первый сверточный слой\n",
    "        x = self.conv2(x) # Пропускаем выходные данные первого сверточного слоя через второй сверточный слой\n",
    "        x = self.flatten(x) # Разворачиваем выходные данные второго сверточного слоя в один вектор\n",
    "        scores = self.fc(x) # Пропускаем развернутый вектор через полносвязный слой\n",
    "\n",
    "        # *****END OF YOUR CODE (DO NOT DELETE/MODIFY THIS LINE)*****\n",
    "        ########################################################################\n",
    "        #                           END OF YOUR CODE                           #\n",
    "        ########################################################################        \n",
    "        return scores"
   ]
  },
  {
   "cell_type": "code",
   "execution_count": 15,
   "metadata": {},
   "outputs": [
    {
     "name": "stdout",
     "output_type": "stream",
     "text": [
      "(64, 10)\n"
     ]
    }
   ],
   "source": [
    "def test_ThreeLayerConvNet():    \n",
    "    channel_1, channel_2, num_classes = 12, 8, 10\n",
    "    model = ThreeLayerConvNet(channel_1, channel_2, num_classes)\n",
    "    with tf.device(device):\n",
    "        x = tf.zeros((64, 3, 32, 32))\n",
    "        scores = model(x)\n",
    "        print(scores.shape)\n",
    "\n",
    "test_ThreeLayerConvNet()"
   ]
  },
  {
   "cell_type": "markdown",
   "metadata": {},
   "source": [
    "Пример реализации процесса обучения:"
   ]
  },
  {
   "cell_type": "code",
   "execution_count": 16,
   "metadata": {},
   "outputs": [],
   "source": [
    "def train_part34(model_init_fn, optimizer_init_fn, num_epochs=1, is_training=False):\n",
    "    \"\"\"\n",
    "    Simple training loop for use with models defined using tf.keras. It trains\n",
    "    a model for one epoch on the CIFAR-10 training set and periodically checks\n",
    "    accuracy on the CIFAR-10 validation set.\n",
    "    \n",
    "    Inputs:\n",
    "    - model_init_fn: A function that takes no parameters; when called it\n",
    "      constructs the model we want to train: model = model_init_fn()\n",
    "    - optimizer_init_fn: A function which takes no parameters; when called it\n",
    "      constructs the Optimizer object we will use to optimize the model:\n",
    "      optimizer = optimizer_init_fn()\n",
    "    - num_epochs: The number of epochs to train for\n",
    "    \n",
    "    Returns: Nothing, but prints progress during trainingn\n",
    "    \"\"\"    \n",
    "    with tf.device(device):\n",
    "\n",
    "        print_every = 100\n",
    "        loss_fn = tf.keras.losses.SparseCategoricalCrossentropy()\n",
    "        \n",
    "        model = model_init_fn()\n",
    "        optimizer = optimizer_init_fn()\n",
    "        \n",
    "        train_loss = tf.keras.metrics.Mean(name='train_loss')\n",
    "        train_accuracy = tf.keras.metrics.SparseCategoricalAccuracy(name='train_accuracy')\n",
    "    \n",
    "        val_loss = tf.keras.metrics.Mean(name='val_loss')\n",
    "        val_accuracy = tf.keras.metrics.SparseCategoricalAccuracy(name='val_accuracy')\n",
    "        \n",
    "        t = 0\n",
    "        for epoch in range(num_epochs):\n",
    "            \n",
    "            # Reset the metrics - https://www.tensorflow.org/alpha/guide/migration_guide#new-style_metrics\n",
    "            train_loss.reset_states()\n",
    "            train_accuracy.reset_states()\n",
    "            \n",
    "            for x_np, y_np in train_dset:\n",
    "                with tf.GradientTape() as tape:\n",
    "                    \n",
    "                    # Use the model function to build the forward pass.\n",
    "                    scores = model(x_np, training=is_training)\n",
    "                    loss = loss_fn(y_np, scores)\n",
    "      \n",
    "                    gradients = tape.gradient(loss, model.trainable_variables)\n",
    "                    optimizer.apply_gradients(zip(gradients, model.trainable_variables))\n",
    "                    \n",
    "                    # Update the metrics\n",
    "                    train_loss.update_state(loss)\n",
    "                    train_accuracy.update_state(y_np, scores)\n",
    "                    \n",
    "                    if t % print_every == 0:\n",
    "                        val_loss.reset_states()\n",
    "                        val_accuracy.reset_states()\n",
    "                        for test_x, test_y in val_dset:\n",
    "                            # During validation at end of epoch, training set to False\n",
    "                            prediction = model(test_x, training=False)\n",
    "                            t_loss = loss_fn(test_y, prediction)\n",
    "\n",
    "                            val_loss.update_state(t_loss)\n",
    "                            val_accuracy.update_state(test_y, prediction)\n",
    "                        \n",
    "                        template = 'Iteration {}, Epoch {}, Loss: {}, Accuracy: {}, Val Loss: {}, Val Accuracy: {}'\n",
    "                        print (template.format(t, epoch+1,\n",
    "                                             train_loss.result(),\n",
    "                                             train_accuracy.result()*100,\n",
    "                                             val_loss.result(),\n",
    "                                             val_accuracy.result()*100))\n",
    "                    t += 1"
   ]
  },
  {
   "cell_type": "code",
   "execution_count": 17,
   "metadata": {},
   "outputs": [
    {
     "name": "stdout",
     "output_type": "stream",
     "text": [
      "Iteration 0, Epoch 1, Loss: 3.0233967304229736, Accuracy: 10.9375, Val Loss: 2.9211366176605225, Val Accuracy: 11.699999809265137\n",
      "Iteration 100, Epoch 1, Loss: 2.259289503097534, Accuracy: 28.078588485717773, Val Loss: 1.9010292291641235, Val Accuracy: 36.5\n",
      "Iteration 200, Epoch 1, Loss: 2.089059591293335, Accuracy: 32.02736282348633, Val Loss: 1.8815157413482666, Val Accuracy: 39.39999771118164\n",
      "Iteration 300, Epoch 1, Loss: 2.0073564052581787, Accuracy: 34.058345794677734, Val Loss: 1.8760639429092407, Val Accuracy: 37.900001525878906\n",
      "Iteration 400, Epoch 1, Loss: 1.9383715391159058, Accuracy: 35.76605224609375, Val Loss: 1.7064533233642578, Val Accuracy: 42.0\n",
      "Iteration 500, Epoch 1, Loss: 1.8919024467468262, Accuracy: 36.89807891845703, Val Loss: 1.6237136125564575, Val Accuracy: 45.69999694824219\n",
      "Iteration 600, Epoch 1, Loss: 1.8597824573516846, Accuracy: 37.80418014526367, Val Loss: 1.6495980024337769, Val Accuracy: 44.400001525878906\n",
      "Iteration 700, Epoch 1, Loss: 1.8334158658981323, Accuracy: 38.57658767700195, Val Loss: 1.5997709035873413, Val Accuracy: 45.5\n"
     ]
    }
   ],
   "source": [
    "hidden_size, num_classes = 4000, 10\n",
    "learning_rate = 1e-2\n",
    "\n",
    "def model_init_fn():\n",
    "    return TwoLayerFC(hidden_size, num_classes)\n",
    "\n",
    "def optimizer_init_fn():\n",
    "    return tf.keras.optimizers.SGD(learning_rate=learning_rate)\n",
    "\n",
    "train_part34(model_init_fn, optimizer_init_fn)"
   ]
  },
  {
   "cell_type": "markdown",
   "metadata": {},
   "source": [
    "Обучите трехслойную CNN. В tf.keras.optimizers.SGD укажите Nesterov momentum = 0.9 . \n",
    "\n",
    "https://www.tensorflow.org/versions/r2.0/api_docs/python/tf/optimizers/SGD\n",
    "\n",
    "Значение accuracy на валидационной выборке после 1 эпохи обучения должно быть > 50% ."
   ]
  },
  {
   "cell_type": "code",
   "execution_count": 18,
   "metadata": {},
   "outputs": [
    {
     "name": "stdout",
     "output_type": "stream",
     "text": [
      "Iteration 0, Epoch 1, Loss: 2.3675942420959473, Accuracy: 9.375, Val Loss: 2.3288252353668213, Val Accuracy: 11.0\n",
      "Iteration 100, Epoch 1, Loss: 1.8450183868408203, Accuracy: 33.555076599121094, Val Loss: 1.603040337562561, Val Accuracy: 44.60000228881836\n",
      "Iteration 200, Epoch 1, Loss: 1.7009004354476929, Accuracy: 39.412315368652344, Val Loss: 1.447537899017334, Val Accuracy: 49.5\n",
      "Iteration 300, Epoch 1, Loss: 1.6219552755355835, Accuracy: 42.32246398925781, Val Loss: 1.3955825567245483, Val Accuracy: 52.499996185302734\n",
      "Iteration 400, Epoch 1, Loss: 1.5590249300003052, Accuracy: 44.62281799316406, Val Loss: 1.3745099306106567, Val Accuracy: 51.70000076293945\n",
      "Iteration 500, Epoch 1, Loss: 1.515647530555725, Accuracy: 46.13273620605469, Val Loss: 1.3159633874893188, Val Accuracy: 52.79999923706055\n",
      "Iteration 600, Epoch 1, Loss: 1.488855242729187, Accuracy: 47.215576171875, Val Loss: 1.3078023195266724, Val Accuracy: 55.0\n",
      "Iteration 700, Epoch 1, Loss: 1.4631694555282593, Accuracy: 48.08978271484375, Val Loss: 1.2897026538848877, Val Accuracy: 54.900001525878906\n"
     ]
    }
   ],
   "source": [
    "def model_init_fn():\n",
    "    model = None\n",
    "    ############################################################################\n",
    "    # TODO: Complete the implementation of model_fn.                           #\n",
    "    ############################################################################\n",
    "    # *****START OF YOUR CODE (DO NOT DELETE/MODIFY THIS LINE)*****\n",
    "    input_shape = (32, 32, 3)\n",
    "    channel_1, channel_2, num_classes = 32, 16, 10\n",
    "    inputs = tf.keras.Input(shape=input_shape)\n",
    "    \n",
    "    # Сверточные и пуллинг слои\n",
    "    x = tf.keras.layers.Conv2D(filters=channel_1, kernel_size=(5, 5), padding='same', activation='relu')(inputs)\n",
    "    x = tf.keras.layers.Conv2D(filters=channel_2, kernel_size=(3, 3), padding='same', activation='relu')(x)\n",
    "    \n",
    "    # Переход к полносвязным слоям\n",
    "    x = tf.keras.layers.Flatten()(x)\n",
    "    outputs = tf.keras.layers.Dense(units=num_classes, activation='softmax')(x)\n",
    "    \n",
    "    model = tf.keras.Model(inputs=inputs, outputs=outputs)\n",
    "\n",
    "    # *****END OF YOUR CODE (DO NOT DELETE/MODIFY THIS LINE)*****\n",
    "    ############################################################################\n",
    "    #                           END OF YOUR CODE                               #\n",
    "    ############################################################################\n",
    "    return model\n",
    "\n",
    "def optimizer_init_fn():\n",
    "    optimizer = None\n",
    "    ############################################################################\n",
    "    # TODO: Complete the implementation of model_fn.                           #\n",
    "    ############################################################################\n",
    "    # *****START OF YOUR CODE (DO NOT DELETE/MODIFY THIS LINE)*****\n",
    "    learning_rate = 3e-3\n",
    "    optimizer = tf.keras.optimizers.SGD(learning_rate=learning_rate, momentum=0.9, nesterov=True) #Nesterov momentum = 0.9\n",
    "\n",
    "    # *****END OF YOUR CODE (DO NOT DELETE/MODIFY THIS LINE)*****\n",
    "    ############################################################################\n",
    "    #                           END OF YOUR CODE                               #\n",
    "    ############################################################################\n",
    "    return optimizer\n",
    "\n",
    "train_part34(model_init_fn, optimizer_init_fn)"
   ]
  },
  {
   "cell_type": "markdown",
   "metadata": {},
   "source": [
    "# Использование Keras Sequential API для реализации последовательных моделей.\n",
    "\n",
    "Пример для полносвязной сети:"
   ]
  },
  {
   "cell_type": "code",
   "execution_count": 19,
   "metadata": {},
   "outputs": [
    {
     "name": "stdout",
     "output_type": "stream",
     "text": [
      "Iteration 0, Epoch 1, Loss: 3.1879892349243164, Accuracy: 7.8125, Val Loss: 3.112488269805908, Val Accuracy: 13.799999237060547\n",
      "Iteration 100, Epoch 1, Loss: 2.242853879928589, Accuracy: 28.62004852294922, Val Loss: 1.874886393547058, Val Accuracy: 39.20000076293945\n",
      "Iteration 200, Epoch 1, Loss: 2.0718905925750732, Accuracy: 32.532649993896484, Val Loss: 1.8591254949569702, Val Accuracy: 40.29999923706055\n",
      "Iteration 300, Epoch 1, Loss: 2.0003509521484375, Accuracy: 34.35942840576172, Val Loss: 1.8574414253234863, Val Accuracy: 38.900001525878906\n",
      "Iteration 400, Epoch 1, Loss: 1.9332118034362793, Accuracy: 36.21025848388672, Val Loss: 1.7265125513076782, Val Accuracy: 41.80000305175781\n",
      "Iteration 500, Epoch 1, Loss: 1.8892593383789062, Accuracy: 37.259857177734375, Val Loss: 1.6562516689300537, Val Accuracy: 43.20000076293945\n",
      "Iteration 600, Epoch 1, Loss: 1.8585249185562134, Accuracy: 38.18375778198242, Val Loss: 1.6782445907592773, Val Accuracy: 44.10000228881836\n",
      "Iteration 700, Epoch 1, Loss: 1.8315773010253906, Accuracy: 38.930992126464844, Val Loss: 1.629664659500122, Val Accuracy: 43.79999923706055\n"
     ]
    }
   ],
   "source": [
    "learning_rate = 1e-2\n",
    "\n",
    "def model_init_fn():\n",
    "    input_shape = (32, 32, 3)\n",
    "    hidden_layer_size, num_classes = 4000, 10\n",
    "    initializer = tf.initializers.VarianceScaling(scale=2.0)\n",
    "    layers = [\n",
    "        tf.keras.layers.Flatten(input_shape=input_shape),\n",
    "        tf.keras.layers.Dense(hidden_layer_size, activation='relu',\n",
    "                              kernel_initializer=initializer),\n",
    "        tf.keras.layers.Dense(num_classes, activation='softmax', \n",
    "                              kernel_initializer=initializer),\n",
    "    ]\n",
    "    model = tf.keras.Sequential(layers)\n",
    "    return model\n",
    "\n",
    "def optimizer_init_fn():\n",
    "    return tf.keras.optimizers.SGD(learning_rate=learning_rate) \n",
    "\n",
    "train_part34(model_init_fn, optimizer_init_fn)"
   ]
  },
  {
   "cell_type": "markdown",
   "metadata": {},
   "source": [
    "Альтернативный менее гибкий способ обучения:"
   ]
  },
  {
   "cell_type": "code",
   "execution_count": 20,
   "metadata": {},
   "outputs": [
    {
     "name": "stdout",
     "output_type": "stream",
     "text": [
      "WARNING:tensorflow:From D:\\Python\\Lib\\site-packages\\keras\\src\\utils\\tf_utils.py:492: The name tf.ragged.RaggedTensorValue is deprecated. Please use tf.compat.v1.ragged.RaggedTensorValue instead.\n",
      "\n",
      "WARNING:tensorflow:From D:\\Python\\Lib\\site-packages\\keras\\src\\engine\\base_layer_utils.py:384: The name tf.executing_eagerly_outside_functions is deprecated. Please use tf.compat.v1.executing_eagerly_outside_functions instead.\n",
      "\n",
      "766/766 [==============================] - 22s 28ms/step - loss: 1.8202 - sparse_categorical_accuracy: 0.3880 - val_loss: 1.7449 - val_sparse_categorical_accuracy: 0.4200\n",
      "313/313 [==============================] - 1s 4ms/step - loss: 1.7165 - sparse_categorical_accuracy: 0.4134\n"
     ]
    },
    {
     "data": {
      "text/plain": [
       "[1.7165124416351318, 0.41339999437332153]"
      ]
     },
     "execution_count": 20,
     "metadata": {},
     "output_type": "execute_result"
    }
   ],
   "source": [
    "model = model_init_fn()\n",
    "model.compile(optimizer=tf.keras.optimizers.SGD(learning_rate=learning_rate),\n",
    "              loss='sparse_categorical_crossentropy',\n",
    "              metrics=[tf.keras.metrics.sparse_categorical_accuracy])\n",
    "model.fit(X_train, y_train, batch_size=64, epochs=1, validation_data=(X_val, y_val))\n",
    "model.evaluate(X_test, y_test)"
   ]
  },
  {
   "cell_type": "markdown",
   "metadata": {},
   "source": [
    "Перепишите реализацию трехслойной CNN с помощью tf.keras.Sequential API . Обучите модель двумя способами."
   ]
  },
  {
   "cell_type": "code",
   "execution_count": 21,
   "metadata": {},
   "outputs": [
    {
     "name": "stdout",
     "output_type": "stream",
     "text": [
      "Iteration 0, Epoch 1, Loss: 2.311187982559204, Accuracy: 10.9375, Val Loss: 2.326413154602051, Val Accuracy: 9.899999618530273\n",
      "Iteration 100, Epoch 1, Loss: 1.884738564491272, Accuracy: 32.98267364501953, Val Loss: 1.6599488258361816, Val Accuracy: 43.29999923706055\n",
      "Iteration 200, Epoch 1, Loss: 1.7337342500686646, Accuracy: 39.210201263427734, Val Loss: 1.455155849456787, Val Accuracy: 49.29999923706055\n",
      "Iteration 300, Epoch 1, Loss: 1.6500146389007568, Accuracy: 42.016197204589844, Val Loss: 1.4143625497817993, Val Accuracy: 49.900001525878906\n",
      "Iteration 400, Epoch 1, Loss: 1.5832622051239014, Accuracy: 44.264339447021484, Val Loss: 1.375757098197937, Val Accuracy: 52.10000228881836\n",
      "Iteration 500, Epoch 1, Loss: 1.5356769561767578, Accuracy: 45.780311584472656, Val Loss: 1.3055254220962524, Val Accuracy: 53.500003814697266\n",
      "Iteration 600, Epoch 1, Loss: 1.5060149431228638, Accuracy: 46.81520462036133, Val Loss: 1.2726283073425293, Val Accuracy: 54.29999923706055\n",
      "Iteration 700, Epoch 1, Loss: 1.4786702394485474, Accuracy: 47.750980377197266, Val Loss: 1.2677597999572754, Val Accuracy: 57.20000457763672\n"
     ]
    }
   ],
   "source": [
    "def model_init_fn():\n",
    "    model = None\n",
    "    ############################################################################\n",
    "    # TODO: Construct a three-layer ConvNet using tf.keras.Sequential.         #\n",
    "    ############################################################################\n",
    "    # *****START OF YOUR CODE (DO NOT DELETE/MODIFY THIS LINE)*****\n",
    "    channel_1, channel_2, num_classes = 32, 16, 10\n",
    "    model = tf.keras.Sequential([  #Sequential\n",
    "        # Сверточный слой 1\n",
    "        tf.keras.layers.Conv2D(filters=channel_1, kernel_size=(5, 5), padding='same', activation='relu', input_shape=(32, 32, 3)),\n",
    "        # Сверточный слой 2\n",
    "        tf.keras.layers.Conv2D(filters=channel_2, kernel_size=(3, 3), padding='same', activation='relu'),\n",
    "        # Переход к полносвязному слою\n",
    "        tf.keras.layers.Flatten(),\n",
    "        tf.keras.layers.Dense(units=num_classes, activation='softmax')\n",
    "    ])\n",
    "\n",
    "    # *****END OF YOUR CODE (DO NOT DELETE/MODIFY THIS LINE)*****\n",
    "    ############################################################################\n",
    "    #                            END OF YOUR CODE                              #\n",
    "    ############################################################################\n",
    "    return model\n",
    "\n",
    "learning_rate = 5e-4\n",
    "def optimizer_init_fn():\n",
    "    optimizer = None\n",
    "    ############################################################################\n",
    "    # TODO: Complete the implementation of model_fn.                           #\n",
    "    ############################################################################\n",
    "    # *****START OF YOUR CODE (DO NOT DELETE/MODIFY THIS LINE)*****\n",
    "    learning_rate = 3e-3\n",
    "    optimizer = tf.keras.optimizers.SGD(learning_rate=learning_rate, momentum=0.9, nesterov=True)\n",
    "    # *****END OF YOUR CODE (DO NOT DELETE/MODIFY THIS LINE)*****\n",
    "    ############################################################################\n",
    "    #                           END OF YOUR CODE                               #\n",
    "    ############################################################################\n",
    "    return optimizer\n",
    "\n",
    "train_part34(model_init_fn, optimizer_init_fn)"
   ]
  },
  {
   "cell_type": "code",
   "execution_count": 22,
   "metadata": {},
   "outputs": [
    {
     "name": "stdout",
     "output_type": "stream",
     "text": [
      "WARNING:tensorflow:From D:\\Python\\Lib\\site-packages\\keras\\src\\optimizers\\__init__.py:309: The name tf.train.Optimizer is deprecated. Please use tf.compat.v1.train.Optimizer instead.\n",
      "\n",
      "766/766 [==============================] - 8s 10ms/step - loss: 1.6266 - sparse_categorical_accuracy: 0.4234 - val_loss: 1.4471 - val_sparse_categorical_accuracy: 0.4680\n",
      "313/313 [==============================] - 1s 2ms/step - loss: 1.4449 - sparse_categorical_accuracy: 0.4920\n"
     ]
    },
    {
     "data": {
      "text/plain": [
       "[1.4449098110198975, 0.492000013589859]"
      ]
     },
     "execution_count": 22,
     "metadata": {},
     "output_type": "execute_result"
    }
   ],
   "source": [
    "model = model_init_fn()\n",
    "model.compile(optimizer='sgd',\n",
    "              loss='sparse_categorical_crossentropy',\n",
    "              metrics=[tf.keras.metrics.sparse_categorical_accuracy])\n",
    "model.fit(X_train, y_train, batch_size=64, epochs=1, validation_data=(X_val, y_val))\n",
    "model.evaluate(X_test, y_test)"
   ]
  },
  {
   "cell_type": "markdown",
   "metadata": {},
   "source": [
    "# Использование Keras Functional API\n",
    "\n",
    "Для реализации более сложных архитектур сети с несколькими входами/выходами, повторным использованием слоев, \"остаточными\" связями (residual connections) необходимо явно указать входные и выходные тензоры. \n",
    "\n",
    "Ниже представлен пример для полносвязной сети. "
   ]
  },
  {
   "cell_type": "code",
   "execution_count": 23,
   "metadata": {},
   "outputs": [
    {
     "name": "stdout",
     "output_type": "stream",
     "text": [
      "(64, 10)\n"
     ]
    }
   ],
   "source": [
    "def two_layer_fc_functional(input_shape, hidden_size, num_classes):  \n",
    "    initializer = tf.initializers.VarianceScaling(scale=2.0)\n",
    "    inputs = tf.keras.Input(shape=input_shape)\n",
    "    flattened_inputs = tf.keras.layers.Flatten()(inputs)\n",
    "    fc1_output = tf.keras.layers.Dense(hidden_size, activation='relu',\n",
    "                                 kernel_initializer=initializer)(flattened_inputs)\n",
    "    scores = tf.keras.layers.Dense(num_classes, activation='softmax',\n",
    "                             kernel_initializer=initializer)(fc1_output)\n",
    "\n",
    "    # Instantiate the model given inputs and outputs.\n",
    "    model = tf.keras.Model(inputs=inputs, outputs=scores)\n",
    "    return model\n",
    "\n",
    "def test_two_layer_fc_functional():\n",
    "    \"\"\" A small unit test to exercise the TwoLayerFC model above. \"\"\"\n",
    "    input_size, hidden_size, num_classes = 50, 42, 10\n",
    "    input_shape = (50,)\n",
    "    \n",
    "    x = tf.zeros((64, input_size))\n",
    "    model = two_layer_fc_functional(input_shape, hidden_size, num_classes)\n",
    "    \n",
    "    with tf.device(device):\n",
    "        scores = model(x)\n",
    "        print(scores.shape)\n",
    "        \n",
    "test_two_layer_fc_functional()"
   ]
  },
  {
   "cell_type": "code",
   "execution_count": 24,
   "metadata": {},
   "outputs": [
    {
     "name": "stdout",
     "output_type": "stream",
     "text": [
      "Iteration 0, Epoch 1, Loss: 3.432112216949463, Accuracy: 14.0625, Val Loss: 2.9769957065582275, Val Accuracy: 13.199999809265137\n",
      "Iteration 100, Epoch 1, Loss: 2.248833417892456, Accuracy: 28.46534538269043, Val Loss: 1.8698688745498657, Val Accuracy: 38.0\n",
      "Iteration 200, Epoch 1, Loss: 2.0785369873046875, Accuracy: 32.48600769042969, Val Loss: 1.8814749717712402, Val Accuracy: 39.20000076293945\n",
      "Iteration 300, Epoch 1, Loss: 2.003537178039551, Accuracy: 34.40095520019531, Val Loss: 1.8268736600875854, Val Accuracy: 39.39999771118164\n",
      "Iteration 400, Epoch 1, Loss: 1.9353119134902954, Accuracy: 36.25312042236328, Val Loss: 1.7053803205490112, Val Accuracy: 41.5\n",
      "Iteration 500, Epoch 1, Loss: 1.8898378610610962, Accuracy: 37.3409423828125, Val Loss: 1.6454205513000488, Val Accuracy: 45.69999694824219\n",
      "Iteration 600, Epoch 1, Loss: 1.8586888313293457, Accuracy: 38.168155670166016, Val Loss: 1.6854610443115234, Val Accuracy: 43.0\n",
      "Iteration 700, Epoch 1, Loss: 1.8328218460083008, Accuracy: 38.888641357421875, Val Loss: 1.6254193782806396, Val Accuracy: 45.29999923706055\n"
     ]
    }
   ],
   "source": [
    "input_shape = (32, 32, 3)\n",
    "hidden_size, num_classes = 4000, 10\n",
    "learning_rate = 1e-2\n",
    "\n",
    "def model_init_fn():\n",
    "    return two_layer_fc_functional(input_shape, hidden_size, num_classes)\n",
    "\n",
    "def optimizer_init_fn():\n",
    "    return tf.keras.optimizers.SGD(learning_rate=learning_rate)\n",
    "\n",
    "train_part34(model_init_fn, optimizer_init_fn)"
   ]
  },
  {
   "cell_type": "markdown",
   "metadata": {},
   "source": []
  },
  {
   "cell_type": "markdown",
   "metadata": {},
   "source": [
    "Поэкспериментируйте с архитектурой сверточной сети. Для вашего набора данных вам необходимо получить как минимум 70% accuracy на валидационной выборке за 10 эпох обучения. Опишите все эксперименты и сделайте выводы (без выполнения данного пункта работы приниматься не будут). \n",
    "\n",
    "Эспериментируйте с архитектурой, гиперпараметрами, функцией потерь, регуляризацией, методом оптимизации.  \n",
    "\n",
    "https://www.tensorflow.org/versions/r2.0/api_docs/python/tf/keras/layers/BatchNormalization#methods https://www.tensorflow.org/versions/r2.0/api_docs/python/tf/keras/layers/Dropout#methods"
   ]
  },
  {
   "cell_type": "code",
   "execution_count": 28,
   "metadata": {},
   "outputs": [
    {
     "name": "stdout",
     "output_type": "stream",
     "text": [
      "Iteration 0, Epoch 1, Loss: 2.354480743408203, Accuracy: 7.8125, Val Loss: 2.365732431411743, Val Accuracy: 7.90000057220459\n",
      "Iteration 100, Epoch 1, Loss: 2.1014277935028076, Accuracy: 22.431930541992188, Val Loss: 1.8432281017303467, Val Accuracy: 35.400001525878906\n",
      "Iteration 200, Epoch 1, Loss: 1.96261727809906, Accuracy: 27.72076988220215, Val Loss: 1.5889312028884888, Val Accuracy: 42.89999771118164\n",
      "Iteration 300, Epoch 1, Loss: 1.8624134063720703, Accuracy: 31.717193603515625, Val Loss: 1.4873244762420654, Val Accuracy: 49.29999923706055\n",
      "Iteration 400, Epoch 1, Loss: 1.7834511995315552, Accuracy: 34.49189758300781, Val Loss: 1.3725366592407227, Val Accuracy: 50.400001525878906\n",
      "Iteration 500, Epoch 1, Loss: 1.7238205671310425, Accuracy: 36.84817886352539, Val Loss: 1.3561595678329468, Val Accuracy: 53.500003814697266\n",
      "Iteration 600, Epoch 1, Loss: 1.683825135231018, Accuracy: 38.42034149169922, Val Loss: 1.3048871755599976, Val Accuracy: 55.29999542236328\n",
      "Iteration 700, Epoch 1, Loss: 1.6505482196807861, Accuracy: 39.815887451171875, Val Loss: 1.2400569915771484, Val Accuracy: 56.80000305175781\n",
      "Iteration 800, Epoch 2, Loss: 1.3439170122146606, Accuracy: 50.26785659790039, Val Loss: 1.1851871013641357, Val Accuracy: 60.29999923706055\n",
      "Iteration 900, Epoch 2, Loss: 1.3300529718399048, Accuracy: 51.59722137451172, Val Loss: 1.1574413776397705, Val Accuracy: 59.500003814697266\n",
      "Iteration 1000, Epoch 2, Loss: 1.3191499710083008, Accuracy: 52.639625549316406, Val Loss: 1.1462141275405884, Val Accuracy: 59.500003814697266\n",
      "Iteration 1100, Epoch 2, Loss: 1.3062790632247925, Accuracy: 53.1902961730957, Val Loss: 1.1040705442428589, Val Accuracy: 63.30000305175781\n",
      "Iteration 1200, Epoch 2, Loss: 1.2837636470794678, Accuracy: 54.005027770996094, Val Loss: 1.0987221002578735, Val Accuracy: 61.599998474121094\n",
      "Iteration 1300, Epoch 2, Loss: 1.2701759338378906, Accuracy: 54.64369201660156, Val Loss: 1.0705878734588623, Val Accuracy: 63.70000076293945\n",
      "Iteration 1400, Epoch 2, Loss: 1.2610669136047363, Accuracy: 55.054134368896484, Val Loss: 1.0409741401672363, Val Accuracy: 66.29999542236328\n",
      "Iteration 1500, Epoch 2, Loss: 1.2501741647720337, Accuracy: 55.53996658325195, Val Loss: 1.040358304977417, Val Accuracy: 64.5\n",
      "Iteration 1600, Epoch 3, Loss: 1.1155860424041748, Accuracy: 60.66576385498047, Val Loss: 0.9959381818771362, Val Accuracy: 65.30000305175781\n",
      "Iteration 1700, Epoch 3, Loss: 1.119044542312622, Accuracy: 60.58616638183594, Val Loss: 0.9803529977798462, Val Accuracy: 67.69999694824219\n",
      "Iteration 1800, Epoch 3, Loss: 1.1182230710983276, Accuracy: 60.437965393066406, Val Loss: 0.9626823663711548, Val Accuracy: 66.5999984741211\n",
      "Iteration 1900, Epoch 3, Loss: 1.1103503704071045, Accuracy: 60.873985290527344, Val Loss: 0.9962758421897888, Val Accuracy: 66.0\n",
      "Iteration 2000, Epoch 3, Loss: 1.0999414920806885, Accuracy: 61.16737747192383, Val Loss: 0.9582540392875671, Val Accuracy: 66.79999542236328\n",
      "Iteration 2100, Epoch 3, Loss: 1.0973377227783203, Accuracy: 61.31370544433594, Val Loss: 0.9561535120010376, Val Accuracy: 67.5\n",
      "Iteration 2200, Epoch 3, Loss: 1.0940359830856323, Accuracy: 61.425636291503906, Val Loss: 0.9301186203956604, Val Accuracy: 70.0\n",
      "Iteration 2300, Epoch 4, Loss: 0.9981434345245361, Accuracy: 66.14582824707031, Val Loss: 0.8870996236801147, Val Accuracy: 69.70000457763672\n",
      "Iteration 2400, Epoch 4, Loss: 1.015188217163086, Accuracy: 64.94235229492188, Val Loss: 0.8783036470413208, Val Accuracy: 69.70000457763672\n",
      "Iteration 2500, Epoch 4, Loss: 1.0126677751541138, Accuracy: 64.6628646850586, Val Loss: 0.8856843709945679, Val Accuracy: 70.0999984741211\n",
      "Iteration 2600, Epoch 4, Loss: 1.0108510255813599, Accuracy: 64.82569885253906, Val Loss: 0.9153856039047241, Val Accuracy: 68.9000015258789\n",
      "Iteration 2700, Epoch 4, Loss: 1.0086479187011719, Accuracy: 64.96588134765625, Val Loss: 0.8699254393577576, Val Accuracy: 70.5\n",
      "Iteration 2800, Epoch 4, Loss: 1.0009920597076416, Accuracy: 65.14662170410156, Val Loss: 0.869655430316925, Val Accuracy: 71.0\n",
      "Iteration 2900, Epoch 4, Loss: 1.0017633438110352, Accuracy: 65.09380340576172, Val Loss: 0.8728603720664978, Val Accuracy: 70.4000015258789\n",
      "Iteration 3000, Epoch 4, Loss: 0.9999115467071533, Accuracy: 65.16046905517578, Val Loss: 0.8349960446357727, Val Accuracy: 71.69999694824219\n"
     ]
    }
   ],
   "source": [
    "class CustomConvNet(tf.keras.Model):\n",
    "    def __init__(self):\n",
    "        super(CustomConvNet, self).__init__()\n",
    "        ############################################################################\n",
    "        # TODO: Construct a model that performs well on CIFAR-10                   #\n",
    "        ############################################################################\n",
    "        # *****START OF YOUR CODE (DO NOT DELETE/MODIFY THIS LINE)*****\n",
    "\n",
    "        super(CustomConvNet, self).__init__()\n",
    "         # Сверточный слой с 16 фильтрами, размером ядра 3x3, функцией активации 'relu' и входным тензором размера (32, 32, 3)\n",
    "        self.conv1 = tf.keras.layers.Conv2D(16, (3,3), activation='relu', input_shape=(32, 32, 3))    \n",
    "        # Сверточный слой с 32 фильтрами, размером ядра 3x3, функцией активации 'relu' \n",
    "        self.conv2 = tf.keras.layers.Conv2D(32, (3,3), activation='relu')\n",
    "        # Слой максимального пуллинга с окном 2 х 2\n",
    "        self.pool1 = tf.keras.layers.MaxPooling2D((2,2))\n",
    "        #Дропаут с параметром 0.25\n",
    "        self.dropout1 = tf.keras.layers.Dropout(0.25)\n",
    "        self.conv3 = tf.keras.layers.Conv2D(64, (3,3), activation='relu')\n",
    "\n",
    "        self.pool2 = tf.keras.layers.MaxPooling2D((2, 2))\n",
    "        #Слой для развертывания\n",
    "        self.flatten = tf.keras.layers.Flatten()\n",
    "        #Плотный слой\n",
    "        self.dense1 = tf.keras.layers.Dense(128, activation='relu')\n",
    "        self.dropout2 = tf.keras.layers.Dropout(0.5)\n",
    "    \n",
    "        self.dense2 = tf.keras.layers.Dense(10, activation='sigmoid') \n",
    "        \n",
    "        # *****END OF YOUR CODE (DO NOT DELETE/MODIFY THIS LINE)*****\n",
    "        ############################################################################\n",
    "        #                            END OF YOUR CODE                              #\n",
    "        ############################################################################\n",
    "    \n",
    "    def call(self, input_tensor, training=False):\n",
    "        ############################################################################\n",
    "        # TODO: Construct a model that performs well on CIFAR-10                   #\n",
    "        ############################################################################\n",
    "        # *****START OF YOUR CODE (DO NOT DELETE/MODIFY THIS LINE)*****\n",
    "\n",
    "        x = self.conv1(input_tensor)\n",
    "        x = self.conv2(x)\n",
    "        x = self.pool1(x)\n",
    "        if training:\n",
    "            x = self.dropout1(x, training=training)\n",
    "        x = self.conv3(x)\n",
    "        x = self.pool2(x)\n",
    "        x = self.flatten(x)\n",
    "        x = self.dense1(x)\n",
    "        if training:\n",
    "            x = self.dropout2(x, training=training)\n",
    "        x = self.dense2(x)\n",
    "\n",
    "        # *****END OF YOUR CODE (DO NOT DELETE/MODIFY THIS LINE)*****\n",
    "        ############################################################################\n",
    "        #                            END OF YOUR CODE                              #\n",
    "        ############################################################################\n",
    "        return x\n",
    "\n",
    "\n",
    "print_every = 700\n",
    "num_epochs = 4\n",
    "\n",
    "model = CustomConvNet()\n",
    "\n",
    "def model_init_fn():\n",
    "    return CustomConvNet()\n",
    "\n",
    "def optimizer_init_fn():\n",
    "    learning_rate = 1e-3\n",
    "    return tf.keras.optimizers.Adam(learning_rate)  #tf.keras.optimizers.RMSprop(learning_rate)\n",
    "\n",
    "\n",
    "train_part34(model_init_fn, optimizer_init_fn, num_epochs=num_epochs, is_training=True)"
   ]
  },
  {
   "cell_type": "code",
   "execution_count": 14,
   "metadata": {},
   "outputs": [],
   "source": [
    "#В сети используются сверточные слои, слои максимального пуллинга, dropout для снижения вероятности переобучения, \n",
    "#flatten для изменения размерности, а также плотные слои (Dense).\n",
    "#Были проведены эксперименты с различными параметрами:\n",
    "#Оптимизаторы RMSprop и Adam дают примерно одинаковые результаты. Небольшое преимущество за вторым вариантом.\n",
    "#Было проведено сравнение функций активации relu и sigmoid: перввый вариант оказался намного эффективнее во временных затратах и по параметру accuracy.\n",
    "#При использовании на выходе softmax и sigmoid не показали существенного различия в полученной точности.\n",
    "#Было уменьшено число эпох, поскольку для достижения точности в 70% с использованием построенной сети их требуется намного меньше."
   ]
  },
  {
   "cell_type": "code",
   "execution_count": null,
   "metadata": {},
   "outputs": [],
   "source": []
  }
 ],
 "metadata": {
  "kernelspec": {
   "display_name": "Python 3 (ipykernel)",
   "language": "python",
   "name": "python3"
  },
  "language_info": {
   "codemirror_mode": {
    "name": "ipython",
    "version": 3
   },
   "file_extension": ".py",
   "mimetype": "text/x-python",
   "name": "python",
   "nbconvert_exporter": "python",
   "pygments_lexer": "ipython3",
   "version": "3.11.5"
  }
 },
 "nbformat": 4,
 "nbformat_minor": 4
}
